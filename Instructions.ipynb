{
 "cells": [
  {
   "cell_type": "markdown",
   "metadata": {},
   "source": [
    "# Final Project Submission Instructions\n",
    "\n",
    "## Due Thursday, June 9 (7 AM)\n",
    "\n",
    "- Place all files (except for large files that are already in the `/data/` directory) in this folder.\n",
    "- Restart the kernel for each notebook and execute the notebook from beginning to end. **10% will be deducted from your final project if the cells in your notebook are not numbered in order: 1, 2, 3, ....**\n",
    "- Open up the terminal and type: `nbgrader submit Final-Project --course dlsun`.\n",
    "- See you in class on Thursday for presentations! I will project your submitted notebook on the big screen, and you will walk us through your analysis."
   ]
  }
 ],
 "metadata": {
  "kernelspec": {
   "display_name": "Python 3",
   "language": "python",
   "name": "python3"
  },
  "language_info": {
   "codemirror_mode": {
    "name": "ipython",
    "version": 3
   },
   "file_extension": ".py",
   "mimetype": "text/x-python",
   "name": "python",
   "nbconvert_exporter": "python",
   "pygments_lexer": "ipython3",
   "version": "3.4.3"
  }
 },
 "nbformat": 4,
 "nbformat_minor": 0
}
